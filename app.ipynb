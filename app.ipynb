{
  "cells": [
    {
      "cell_type": "markdown",
      "id": "98d53c05",
      "metadata": {
        "id": "98d53c05"
      },
      "source": [
        "## Gradio Pets"
      ]
    },
    {
      "cell_type": "code",
      "execution_count": 58,
      "id": "evvA0fqvSblq",
      "metadata": {
        "colab": {
          "base_uri": "https://localhost:8080/"
        },
        "id": "evvA0fqvSblq",
        "outputId": "1dc27178-f4ab-4d42-d549-1fbf45752643"
      },
      "outputs": [
        {
          "name": "stdout",
          "output_type": "stream",
          "text": [
            "Note: you may need to restart the kernel to use updated packages.\n",
            "Note: you may need to restart the kernel to use updated packages.\n"
          ]
        }
      ],
      "source": [
        "%pip install -Uqq fastai\n",
        "%pip install -Uqq fastai gradio"
      ]
    },
    {
      "cell_type": "code",
      "execution_count": 59,
      "id": "44eb0ad3",
      "metadata": {
        "id": "44eb0ad3"
      },
      "outputs": [],
      "source": [
        "from fastai.vision.all import *\n",
        "from pathlib import Path\n",
        "import gradio as gr\n",
        "\n",
        "def is_cat(x): return x[0].isupper()"
      ]
    },
    {
      "cell_type": "code",
      "execution_count": 60,
      "id": "d838c0b3",
      "metadata": {
        "id": "d838c0b3"
      },
      "outputs": [
        {
          "data": {
            "image/jpeg": "[encoded data removed]",
            "image/png": "[encoded data removed]",
            "text/plain": [
              "PILImage mode=RGB size=128x85"
            ]
          },
          "execution_count": 60,
          "metadata": {},
          "output_type": "execute_result"
        }
      ],
      "source": [
        "img = PILImage.create('cat.webp')\n",
        "\n",
        "img.thumbnail((128,128))\n",
        "img"
      ]
    },
    {
      "cell_type": "code",
      "execution_count": 61,
      "id": "a362acc6",
      "metadata": {
        "colab": {
          "base_uri": "https://localhost:8080/",
          "height": 752
        },
        "id": "a362acc6",
        "outputId": "1b88bde0-5431-4a61-916d-e4fed804ada4"
      },
      "outputs": [],
      "source": [
        "learn = load_learner('model.pkl')"
      ]
    },
    {
      "cell_type": "code",
      "execution_count": 62,
      "id": "c107f724",
      "metadata": {
        "colab": {
          "base_uri": "https://localhost:8080/",
          "height": 299
        },
        "id": "c107f724",
        "outputId": "573a58f2-e2d0-42b8-d6b1-e709ea0656a8"
      },
      "outputs": [
        {
          "data": {
            "text/html": [
              "\n",
              "<style>\n",
              "    /* Turns off some styling */\n",
              "    progress {\n",
              "        /* gets rid of default border in Firefox and Opera. */\n",
              "        border: none;\n",
              "        /* Needs to be in here for Safari polyfill so background images work as expected. */\n",
              "        background-size: auto;\n",
              "    }\n",
              "    progress:not([value]), progress:not([value])::-webkit-progress-bar {\n",
              "        background: repeating-linear-gradient(45deg, #7e7e7e, #7e7e7e 10px, #5c5c5c 10px, #5c5c5c 20px);\n",
              "    }\n",
              "    .progress-bar-interrupted, .progress-bar-interrupted::-webkit-progress-bar {\n",
              "        background: #F44336;\n",
              "    }\n",
              "</style>\n"
            ],
            "text/plain": [
              "<IPython.core.display.HTML object>"
            ]
          },
          "metadata": {},
          "output_type": "display_data"
        },
        {
          "data": {
            "text/html": [],
            "text/plain": [
              "<IPython.core.display.HTML object>"
            ]
          },
          "metadata": {},
          "output_type": "display_data"
        },
        {
          "data": {
            "text/plain": [
              "('True', tensor(1), tensor([9.1822e-10, 1.0000e+00]))"
            ]
          },
          "execution_count": 62,
          "metadata": {},
          "output_type": "execute_result"
        }
      ],
      "source": [
        "learn.predict(img)"
      ]
    },
    {
      "cell_type": "code",
      "execution_count": 63,
      "id": "ae2bc6ac",
      "metadata": {
        "id": "ae2bc6ac"
      },
      "outputs": [],
      "source": [
        "learn.export('model.pkl')"
      ]
    },
    {
      "cell_type": "code",
      "execution_count": 64,
      "id": "Q2HTrQKTf3BV",
      "metadata": {
        "id": "Q2HTrQKTf3BV"
      },
      "outputs": [],
      "source": [
        "# Define a function for model inference\n",
        "def classify_image(inp):\n",
        "    img = PILImage.create(inp)\n",
        "    img.thumbnail((128,128))\n",
        "    pred,pred_idx,probs = learn.predict(img)\n",
        "    if pred == \"class_A\":  # Replace \"class_A\" with the actual class name for dogs\n",
        "        result = f\"The image is a Dog with probability {probs[pred_idx]:.4f}\"\n",
        "    else:\n",
        "        result = f\"The image is look like a Cat {probs[pred_idx]:.4f}\"\n",
        "    return result"
      ]
    },
    {
      "cell_type": "code",
      "execution_count": 65,
      "id": "8dc6abc3",
      "metadata": {},
      "outputs": [],
      "source": [
        "image = gr.Image()\n",
        "label = gr.Label()\n",
        "examples = [\"cat.webp\", \"dog.webp\", \"bear.jpeg\"]"
      ]
    },
    {
      "cell_type": "code",
      "execution_count": 66,
      "id": "n_E4ynpBFaSz",
      "metadata": {
        "id": "n_E4ynpBFaSz"
      },
      "outputs": [
        {
          "name": "stdout",
          "output_type": "stream",
          "text": [
            "Running on local URL:  http://127.0.0.1:7869\n",
            "\n",
            "To create a public link, set `share=True` in `launch()`.\n"
          ]
        },
        {
          "data": {
            "text/html": [
              "<div><iframe src=\"http://127.0.0.1:7869/\" width=\"100%\" height=\"500\" allow=\"autoplay; camera; microphone; clipboard-read; clipboard-write;\" frameborder=\"0\" allowfullscreen></iframe></div>"
            ],
            "text/plain": [
              "<IPython.core.display.HTML object>"
            ]
          },
          "metadata": {},
          "output_type": "display_data"
        },
        {
          "data": {
            "text/plain": []
          },
          "execution_count": 66,
          "metadata": {},
          "output_type": "execute_result"
        }
      ],
      "source": [
        "# Launch a gradio interface\n",
        "gr.Interface(fn=classify_image, inputs=\"image\", outputs=\"text\", examples=examples).launch()"
      ]
    }
  ],
  "metadata": {
    "accelerator": "GPU",
    "colab": {
      "provenance": []
    },
    "kernelspec": {
      "display_name": "Python 3 (ipykernel)",
      "language": "python",
      "name": "python3"
    },
    "language_info": {
      "codemirror_mode": {
        "name": "ipython",
        "version": 3
      },
      "file_extension": ".py",
      "mimetype": "text/x-python",
      "name": "python",
      "nbconvert_exporter": "python",
      "pygments_lexer": "ipython3",
      "version": "3.9.7"
    },
    "toc": {
      "base_numbering": 1,
      "nav_menu": {},
      "number_sections": false,
      "sideBar": true,
      "skip_h1_title": false,
      "title_cell": "Table of Contents",
      "title_sidebar": "Contents",
      "toc_cell": false,
      "toc_position": {},
      "toc_section_display": true,
      "toc_window_display": false
    }
  },
  "nbformat": 4,
  "nbformat_minor": 5
}
